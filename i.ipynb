{
 "cells": [
  {
   "cell_type": "markdown",
   "metadata": {},
   "source": [
    "JUPITER NOTEBOOK FOR DATA ANALYSIS|"
   ]
  },
  {
   "cell_type": "markdown",
   "metadata": {},
   "source": [
    "INTRODUCTION:\n",
    ">>This is notebook based on Data analysis and first steps to work with data & jupiter notebooks.This notebook covers essential concepts and tools used in Data Science. We will explore programming languages, libraries, tools, and perform arithmetic operations to demonstrate key functionalities. It is designed for beginners and intermediate learners who are looking to enhance their knowledge in Data Science.\n"
   ]
  },
  {
   "cell_type": "markdown",
   "metadata": {},
   "source": [
    "Data Science Languages:\n",
    ">> Python\n",
    "\n",
    ">> R Language\n",
    "\n",
    ">> Scala\n",
    "\n",
    ">> Spark\n"
   ]
  },
  {
   "cell_type": "markdown",
   "metadata": {},
   "source": [
    "Data Science Libraries:\n",
    ">> pandas\n",
    "\n",
    ">> Numpy\n",
    "\n",
    ">> Scikit-Learn\n",
    "\n",
    ">> Matpoltlib\n",
    "\n",
    ">> Seaborn\n",
    ">> "
   ]
  },
  {
   "cell_type": "markdown",
   "metadata": {},
   "source": [
    "## Data Science Tools\n",
    "Here is a table listing some of the popular tools used in Data Science:\n",
    "\n",
    "| Tool        | Description                                        | Language |\n",
    "|-------------|----------------------------------------------------|----------|\n",
    "| Jupyter     | Interactive notebook environment for coding and documentation | Python, R |\n",
    "| Apache Spark| Distributed computing framework                    | Scala, Java |\n",
    "| Tableau     | Data visualization tool                             | Various |\n",
    "| Hadoop      | Framework for processing large datasets            | Java |\n",
    "| Excel       | Spreadsheet software for data manipulation and analysis | Various |\n"
   ]
  },
  {
   "cell_type": "markdown",
   "metadata": {},
   "source": [
    "## Arithmetic Expressions\n",
    "\n",
    "In Python, arithmetic expressions allow you to perform mathematical calculations. Some of the basic arithmetic operators include:\n",
    "\n",
    "- `+` for addition\n",
    "- `-` for subtraction\n",
    "- `*` for multiplication\n",
    "- `/` for division\n",
    "- `**` for exponentiation\n",
    "- `%` for modulus (remainder)\n",
    "\n",
    "Let's look at some examples.\n"
   ]
  },
  {
   "cell_type": "code",
   "execution_count": 1,
   "metadata": {},
   "outputs": [
    {
     "data": {
      "text/plain": [
       "(15, 8)"
      ]
     },
     "execution_count": 1,
     "metadata": {},
     "output_type": "execute_result"
    }
   ],
   "source": [
    "# Multiplication and Addition Example\n",
    "\n",
    "a = 5\n",
    "b = 3\n",
    "\n",
    "product = a * b\n",
    "\n",
    "sum_result = a + b\n",
    "\n",
    "product, sum_result\n"
   ]
  },
  {
   "cell_type": "code",
   "execution_count": 2,
   "metadata": {},
   "outputs": [
    {
     "data": {
      "text/plain": [
       "2.5"
      ]
     },
     "execution_count": 2,
     "metadata": {},
     "output_type": "execute_result"
    }
   ],
   "source": [
    "# Convert minutes to hours\n",
    "def convert_minutes_to_hours(minutes):\n",
    "    hours = minutes / 60\n",
    "    return hours\n",
    "\n",
    "# Example: Convert 150 minutes to hours\n",
    "minutes = 150\n",
    "hours = convert_minutes_to_hours(minutes)\n",
    "\n",
    "hours\n"
   ]
  },
  {
   "cell_type": "markdown",
   "metadata": {},
   "source": [
    "## Objectives\n",
    "\n",
    "In this notebook, we will:\n",
    "1. Learn basic arithmetic expressions in Python.\n",
    "2. Perform arithmetic operations such as multiplication and addition.\n",
    "3. Convert time from minutes to hours using a simple function.\n",
    "4. Understand how to organize a notebook with markdown and code cells.\n",
    "5. Share the notebook through GitHub.\n"
   ]
  },
  {
   "cell_type": "markdown",
   "metadata": {},
   "source": [
    "## Author\n",
    "\n",
    "This notebook was created by **Raghu charan V**.\n"
   ]
  },
  {
   "cell_type": "code",
   "execution_count": null,
   "metadata": {},
   "outputs": [],
   "source": []
  }
 ],
 "metadata": {
  "kernelspec": {
   "display_name": "tensor",
   "language": "python",
   "name": "python3"
  },
  "language_info": {
   "codemirror_mode": {
    "name": "ipython",
    "version": 3
   },
   "file_extension": ".py",
   "mimetype": "text/x-python",
   "name": "python",
   "nbconvert_exporter": "python",
   "pygments_lexer": "ipython3",
   "version": "3.10.13"
  }
 },
 "nbformat": 4,
 "nbformat_minor": 2
}
